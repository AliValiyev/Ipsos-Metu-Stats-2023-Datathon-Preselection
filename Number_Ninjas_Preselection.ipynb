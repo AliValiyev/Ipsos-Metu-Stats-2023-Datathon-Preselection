{
  "cells": [
    {
      "cell_type": "markdown",
      "metadata": {
        "id": "GJBs_flRovLc"
      },
      "source": [
        "<div class=\"markdown-google-sans\">\n",
        "\n",
        "# <strong>Introduction</strong>\n",
        "</div>\n",
        "\n",
        "As the team of <strong>Number Ninjas</strong>, we have decided to participate in a challenging data science competition, which is performing by Metu Stats Club. This competition, also known as a Datathon, is not only an opportunity for us to improve ourselves in the data science field but also a chance to meet the professionals in this field to get, thank you in advance <strong>Metu Statistics and Data Science Club</strong> for this organization."
      ]
    },
    {
      "cell_type": "markdown",
      "source": [
        "##<strong>Team</strong>\n",
        "We are Number Ninjas - a team of three highly motivated and skilled individuals eager to take part in this datathon. Our team consists of three students from Middle East Technical University (METU), one from the Statistics department in their 3rd year and the other from the Mathematics department in their 4th year. Together with our combined knowledge and expertise in statistics and mathematics, we are confident in our ability to analyze and make sense of complex datasets. We are excited to participate in this datathon and are committed to delivering top-quality results."
      ],
      "metadata": {
        "id": "RPHySSB-6vOI"
      }
    },
    {
      "cell_type": "markdown",
      "source": [
        "##<strong>Members</strong>\n",
        "\n",
        "\n",
        "*   Ali Valiyev\n",
        "*   Ahmet Alpay Çetin\n",
        "*   Hüseyin Eren Demirtaş\n",
        "\n"
      ],
      "metadata": {
        "id": "bUH_d1Ts9Td3"
      }
    },
    {
      "cell_type": "markdown",
      "source": [
        "## <strong>Colab</strong>\n",
        "For this competition, we will be using <strong>Google Colab</strong>, a powerful online platform that allows us to write and execute Python code, collaborate with our team members, and share our work with you. It's an excellent tool for working with data and implementing various data science techniques."
      ],
      "metadata": {
        "id": "9aHKDvka9ixs"
      }
    },
    {
      "cell_type": "markdown",
      "source": [
        "<div class=\"markdown-google-sans\">\n",
        "\n",
        "# <strong>Pre Selection Task</strong>\n",
        "</div>\n",
        "\n",
        "For the pre selection task, we are given three main tasks;\n",
        "\n",
        "\n",
        "1.   You are given an 18-month transactional data set. Please split this data set into two 9-month periods.\n",
        "\n",
        "2.   Create churn variable from dataset. You are supposed to use the first 9-month duration to construct your model. For example, you should use the first 6-month duration for the active users and use the last 3-month period to determine if these active users churn within this 3-month period. (Please resolve if there is imbalance in response before modeling.)\n",
        "\n",
        "3.\tOnce you learn from the first 9-month period, proceed with the second 9-month data. Use your churn model obtained in (2) to predict if active customers (for example, those who were active in the first 6-month period of the second data set) churn in the last 3 months of this duration.\n"
      ],
      "metadata": {
        "id": "nSKd8a5y_Yn7"
      }
    },
    {
      "cell_type": "markdown",
      "source": [
        "<div class=\"markdown-google-sans\">\n",
        "\n",
        "# <strong>Methodolgy</strong>\n",
        "</div>\n",
        "\n",
        "Our main methodology to complete the given task involves importing the data, splitting it into two periods, creating a churn variable, exploring and preprocessing the data, building and evaluating the churn model, and using the model to predict churn in the second 9-month period. Step by step it will be given as follows,\n",
        "\n",
        "* Firstly, we shall import the dataset into Google Colab and split it into two 9-month periods based on the date range.\n",
        "\n",
        "* Then, since our main aim will be to create a churn variable using the first 9-month period of the dataset, we will use Python libraries such as Pandas and Numpy to perform data manipulation and create the churn variable.\n",
        "\n",
        "* For this purpose, first, we will explore the data using visualizations and descriptive statistics to gain insights into the customer behavior and identify any patterns or trends that could be relevant for modeling.\n",
        "\n",
        "* If it is necessary, we will preprocess the data by handling missing values, outliers, and encoding categorical variables. We can use techniques such as imputation, scaling, and one-hot encoding to prepare the data for modeling.\n",
        "\n",
        "* Then, we will be ready to build a churn model using the first 9-month period of the dataset. Here, we will most probably use machine learning algorithms such as logistic regression, decision trees, or random forests to build the model. For this purpose, we will also use libraries such as Scikit-learn to build and evaluate the model.\n",
        "\n",
        "* Finally, we shall evaluate the performance of the model using metrics such as accuracy, precision, recall, and F1-score. There are few techniques that we can use here, such as cross-validation and hyperparameter tuning to optimize the model's performance.\n",
        "\n",
        "* To complete the task, we are going to use the churn model obtained in step 5 to predict if active customers in the first 6-month period of the second 9-month period will churn in the last 3 months of the second 9-month period."
      ],
      "metadata": {
        "id": "G8tD4rB7-6xp"
      }
    },
    {
      "cell_type": "markdown",
      "source": [
        "<div class=\"markdown-google-sans\">\n",
        "\n",
        "# <strong>Import Data</strong>\n",
        "\n",
        "</div>\n",
        "\n",
        "In order to import the provided data set into our colab environment, we will first save the data into <strong>Google Drive</strong>, and then from there import it here. Because saving the provided dataset into Google Drive and then importing it into colab has several advantages, for instance\n",
        "\n",
        "* It ensures that the data is securely stored and easily accessible.\n",
        "\n",
        "* It allows multiple team members to access and work on the same dataset simultaneously.\n",
        "\n",
        "* It reduces the time and effort required to upload the data into Google Colab each time you want to work on the dataset.\n",
        "\n",
        "Then by using <strong>pandas</strong> library, we will read the data and save it into suitable varaibles."
      ],
      "metadata": {
        "id": "WptG-LEwCI_k"
      }
    },
    {
      "cell_type": "markdown",
      "source": [
        "## <strong>Download</strong>\n",
        "For this purpose, first we will share the data in the drive, that everyone has access. Then by using main link id of the file to share, we will import the data as follows,"
      ],
      "metadata": {
        "id": "DN0XW9fuDLgS"
      }
    },
    {
      "cell_type": "code",
      "source": [
        "! gdown 1U4XJ_FuVazEX47TVk1Jv0DF7WD2k5kYz"
      ],
      "metadata": {
        "colab": {
          "base_uri": "https://localhost:8080/"
        },
        "id": "IVXwpYelD0ZT",
        "outputId": "168f4af9-be38-4038-e761-84d95dc93158"
      },
      "execution_count": null,
      "outputs": [
        {
          "output_type": "stream",
          "name": "stdout",
          "text": [
            "Downloading...\n",
            "From: https://drive.google.com/uc?id=1U4XJ_FuVazEX47TVk1Jv0DF7WD2k5kYz\n",
            "To: /content/Data23.xlsx\n",
            "\r  0% 0.00/4.70M [00:00<?, ?B/s]\r100% 4.70M/4.70M [00:00<00:00, 146MB/s]\n"
          ]
        }
      ]
    },
    {
      "cell_type": "markdown",
      "source": [
        "## <strong>Load</strong>\n",
        "Now, let us read the provided data. Since it has 3 seperates sheets, we will define 3 different varaible for each of them. To read them we will use from \"pandas\" library the \"read_excel\" function."
      ],
      "metadata": {
        "id": "XXhWdx0wE4EI"
      }
    },
    {
      "cell_type": "code",
      "source": [
        "import pandas as pd\n",
        "\n",
        "file_name = \"Data23.xlsx\"\n",
        "sales_sheet = \"SALES\"\n",
        "products_sheet = \"PRODUCTS\"\n",
        "customers_sheet = \"CUSTOMERS\"\n",
        "sales_df = pd.read_excel(io=file_name, sheet_name=sales_sheet)\n",
        "products_df = pd.read_excel(io=file_name, sheet_name=products_sheet)\n",
        "customers_df = pd.read_excel(io=file_name, sheet_name=customers_sheet)"
      ],
      "metadata": {
        "id": "Xf9hNdf5FNam"
      },
      "execution_count": null,
      "outputs": []
    },
    {
      "cell_type": "markdown",
      "source": [
        "<div class=\"markdown-google-sans\">\n",
        "\n",
        "# <strong>Create Churn Variable</strong>\n",
        "\n",
        "</div>\n",
        "In order to create the churn variable, we need to first split the dataset into two 9-month periods as instructed. Then, we need to use the first 6-month duration to construct the model and create the churn variable based on the last 3 months of the first duration."
      ],
      "metadata": {
        "id": "w1kP95wRPDYS"
      }
    },
    {
      "cell_type": "markdown",
      "source": [
        "## <strong>Split</strong>\n",
        "For this purpose, first we will split the dataset into two 9-month periods. So that we can use the first 9-month of records as the training data for our model. Then, as the task 3 provided us to do so, we can use second 9-month record to train our model. Hence, let us use the \"datetime\" module to create a index list to filter the data based on the transaction date. Filtering process will be given as\n",
        "\n",
        "* Period 1 will include all rows with a 'DateTime' value in the range of January 1, 2017 (included) to October 1, 2017 (excluded).\n",
        "\n",
        "* Period 2 will include all rows with a 'DateTime' value in the range of October 1, 2017 (included) to July 1, 2017 (excluded)."
      ],
      "metadata": {
        "id": "FowVnTiaMP0_"
      }
    },
    {
      "cell_type": "code",
      "source": [
        "from datetime import datetime\n",
        "sales_df['DateTime'] = pd.to_datetime(sales_df['DateTime'])\n",
        "first_9_month = (datetime(2017,1,1) <= sales_df['DateTime']) & (sales_df['DateTime'] < datetime(2017,10,1))\n",
        "second_9_month = (datetime(2017,10,1) <= sales_df['DateTime']) & (sales_df['DateTime'] < datetime(2018,7,1))\n",
        "sales_df_period_1 = sales_df.loc[first_9_month]\n",
        "sales_df_period_2 = sales_df.loc[second_9_month]"
      ],
      "metadata": {
        "id": "Hgb8ht09PNqI"
      },
      "execution_count": null,
      "outputs": []
    },
    {
      "cell_type": "markdown",
      "source": [
        "After spliting the data set, we will work on with first period only while training the model. Now, we will indicate each user who has sales record in first 6-month period of the splited data as active user or in-active user based on their sales record in the last 3-month of the period in the splited data. To do so, we will apply simple iteration on users data frame, then by checking the condition we will assign 0 or 1, which will indicate active or inactive user respectivley. However, if the user does not have any records in the first 6-month period, then we will just pass the user, and at the end we will drop all such users, becasue they will be belong the other data set.\n",
        "\n",
        "* 6-month period will include all rows with a 'DateTime' value less than the July 1, 2017 (excluded).\n",
        "\n",
        "* 3-month period will include all rows with a 'DateTime' value greather than the July 1, 2017 (included)."
      ],
      "metadata": {
        "id": "Jy4vdfctSDZ8"
      }
    },
    {
      "cell_type": "code",
      "source": [
        "index_6_month_first_period = (sales_df_period_1['DateTime'] < datetime(2017,7,1))\n",
        "index_3_month_first_period = (datetime(2017,7,1) <= sales_df_period_1['DateTime'])\n",
        "sales_df_first_6_month_first_period = sales_df_period_1[index_6_month_first_period]\n",
        "sales_df_last_3_month_first_period = sales_df_period_1[index_3_month_first_period]"
      ],
      "metadata": {
        "id": "fP9U7GgqQtTm"
      },
      "execution_count": null,
      "outputs": []
    },
    {
      "cell_type": "markdown",
      "source": [
        "##<strong>Assign Churn Variable</strong>\n",
        "Now, we shall determine all the users who have sales record in the first 6-month period in the data. These users will be the ones that we will assign a churn variable. Then, to determine each of the churn variables, we will simply check whether they are in the last 3-month period in the sales record. If they do so, we will assign them 0, because that will mean that, they are still active users, otherwise, we will simply assign 1, meaning they became inactive users. We will define a new data frame called \"customers_df_churn\", which will store all 6-month users' data, with their churn variable."
      ],
      "metadata": {
        "id": "Dl2X3QzNBEeJ"
      }
    },
    {
      "cell_type": "code",
      "source": [
        "users_first_period = sales_df_first_6_month_first_period[\"UserID\"].unique()\n",
        "active_users_first_period = sales_df_last_3_month_first_period[\"UserID\"].unique()\n",
        "customers_df_churn_first_period = customers_df.loc[(customers_df[\"UserID\"].isin(users_first_period))].copy()\n",
        "customers_df_churn_first_period[\"Churn\"] = 1\n",
        "customers_df_churn_first_period.loc[(customers_df_churn_first_period[\"UserID\"].isin(active_users_first_period)), \"Churn\"] = 0"
      ],
      "metadata": {
        "id": "uM0p4kQIBDeW"
      },
      "execution_count": null,
      "outputs": []
    },
    {
      "cell_type": "markdown",
      "source": [
        "Finally, let us merge the newly created data frame \"customers_df_churn\" with the sales table, so that we can use the provided data on the traning. Notice that, with this way we will be only using the sales records, who are occured during only the first 6-month period, last 3-month"
      ],
      "metadata": {
        "id": "IGniq5F-Do0A"
      }
    },
    {
      "cell_type": "code",
      "source": [
        "merged_df_train = pd.merge(sales_df_first_6_month_first_period, customers_df_churn_first_period, on='UserID', how=\"right\")\n",
        "merged_df_train.info()"
      ],
      "metadata": {
        "colab": {
          "base_uri": "https://localhost:8080/"
        },
        "id": "5a7yLUIn-tjF",
        "outputId": "7463e50c-e0df-424e-c369-e85f2e4493e6"
      },
      "execution_count": null,
      "outputs": [
        {
          "output_type": "stream",
          "name": "stdout",
          "text": [
            "<class 'pandas.core.frame.DataFrame'>\n",
            "Int64Index: 18302 entries, 0 to 18301\n",
            "Data columns (total 13 columns):\n",
            " #   Column                Non-Null Count  Dtype         \n",
            "---  ------                --------------  -----         \n",
            " 0   TransactionID         18302 non-null  int64         \n",
            " 1   UserID                18302 non-null  int64         \n",
            " 2   DateTime              18302 non-null  datetime64[ns]\n",
            " 3   ProductID             18302 non-null  int64         \n",
            " 4   Channel               18302 non-null  object        \n",
            " 5   PaymentType           18302 non-null  object        \n",
            " 6   Price                 18302 non-null  float64       \n",
            " 7   Discount              18302 non-null  object        \n",
            " 8   UserFirstTransaction  18302 non-null  datetime64[ns]\n",
            " 9   Gender                18302 non-null  object        \n",
            " 10  Location              18302 non-null  object        \n",
            " 11  Age                   18302 non-null  int64         \n",
            " 12  Churn                 18302 non-null  int64         \n",
            "dtypes: datetime64[ns](2), float64(1), int64(5), object(5)\n",
            "memory usage: 2.0+ MB\n"
          ]
        }
      ]
    },
    {
      "cell_type": "markdown",
      "source": [
        "<div class=\"markdown-google-sans\">\n",
        "\n",
        "# <strong>Preprocessing</strong>\n",
        "\n",
        "</div>\n",
        "\n",
        "First, we are converting the column \"ProductID\" and \"Churn\" to a categorical data type using the astype() method. This is a useful optimization when dealing with columns that have a limited number of possible values, as it can save memory and improve performance.\n",
        "\n",
        "Next, we are selecting a subset of columns from the dataframe and assigning them back to merged_df. Specifically, the selected columns are \"ProductID\", \"Channel\", \"PaymentType\", \"Price\", \"Discount\", \"Gender\", \"Location\", \"Age\", and \"Churn\". This can be done using bracket indexing with a list of column names."
      ],
      "metadata": {
        "id": "kXjiEm0KmuhG"
      }
    },
    {
      "cell_type": "code",
      "source": [
        "merged_df_train[\"ProductID\"] = merged_df_train[\"ProductID\"].astype(\"category\")\n",
        "merged_df_train[\"Churn\"] = merged_df_train[\"Churn\"].astype(\"category\")\n",
        "merged_df_train = merged_df_train[[\"ProductID\", \"Channel\", \"PaymentType\", \"Price\", \"Discount\", \"Gender\", \"Location\", \"Age\", \"Churn\"]]"
      ],
      "metadata": {
        "id": "e1JItPC7ZtiR"
      },
      "execution_count": null,
      "outputs": []
    },
    {
      "cell_type": "markdown",
      "source": [
        "In the code below, we are  importing necessary libraries for both basic data manipulation and machine learning."
      ],
      "metadata": {
        "id": "c3T4DxdLn7Ml"
      }
    },
    {
      "cell_type": "code",
      "source": [
        "## Basics\n",
        "import numpy as np\n",
        "import pandas as pd\n",
        "import matplotlib.pyplot as plt\n",
        "\n",
        "## ML\n",
        "# sklearn\n",
        "from sklearn.model_selection import train_test_split, cross_val_score\n",
        "from sklearn.preprocessing import StandardScaler, OrdinalEncoder\n",
        "from sklearn.feature_selection import SelectKBest\n",
        "from sklearn.compose import ColumnTransformer\n",
        "from sklearn.metrics import accuracy_score, precision_score, confusion_matrix\n",
        "from sklearn.impute import SimpleImputer\n",
        "from sklearn.metrics import confusion_matrix\n",
        "\n",
        "## Algorithms\n",
        "# sklearn\n",
        "from sklearn.neighbors import KNeighborsClassifier\n",
        "from sklearn.tree import DecisionTreeClassifier\n",
        "from sklearn.ensemble import RandomForestClassifier, AdaBoostClassifier, GradientBoostingClassifier\n",
        "# imblearn\n",
        "from imblearn.over_sampling import SMOTE\n",
        "from imblearn.pipeline import Pipeline"
      ],
      "metadata": {
        "id": "NjZuNaCeEALn"
      },
      "execution_count": null,
      "outputs": []
    },
    {
      "cell_type": "markdown",
      "source": [
        "After importing the necessary libraries, we are splitting the merged_df data into training and testing sets using train_test_split() method. It then separates the target variable ('Churn') from the training set (X_train)."
      ],
      "metadata": {
        "id": "kMkAPEwHqqwX"
      }
    },
    {
      "cell_type": "code",
      "source": [
        "# Construct train, test data.\n",
        "train, test = train_test_split(merged_df_train, test_size=0.30, random_state=42)\n",
        "X_train = train.drop(columns='Churn', axis=1)\n",
        "y_train = train['Churn']\n",
        "X_test = test.drop(columns='Churn', axis=1)\n",
        "y_test = test['Churn']"
      ],
      "metadata": {
        "id": "BvLimcx3qisu"
      },
      "execution_count": null,
      "outputs": []
    },
    {
      "cell_type": "markdown",
      "source": [
        "The code below is preparing for feature preprocessing, by selecting numeric and categorical features, creating preprocessing pipelines for each data type, and then putting the pipelines together into a ColumnTransformer object. It also defines SMOTE object from imblearn library for oversampling the minority class to address the issue of class imbalance."
      ],
      "metadata": {
        "id": "LqMkqCn5opOf"
      }
    },
    {
      "cell_type": "code",
      "source": [
        "## Selecting categorical and numeric features\n",
        "numerical_ix = X_train.select_dtypes(include=np.number).columns\n",
        "categorical_ix = X_train.select_dtypes(exclude=np.number).columns\n",
        "## Create preprocessing pipelines for each datatype\n",
        "numerical_transformer = Pipeline(steps=[\n",
        "('imputer', SimpleImputer(strategy='median')),\n",
        "('scaler', StandardScaler())])\n",
        "categorical_transformer = Pipeline(steps=[\n",
        "('encoder', OrdinalEncoder(handle_unknown='use_encoded_value', unknown_value=-1)),\n",
        "('scaler', StandardScaler())])\n",
        "## Putting the preprocessing steps together\n",
        "preprocessor = ColumnTransformer([\n",
        "('numerical', numerical_transformer, numerical_ix),\n",
        "('categorical', categorical_transformer, categorical_ix)],\n",
        "remainder='passthrough')\n",
        "smote = SMOTE(random_state=42, sampling_strategy=1.0)"
      ],
      "metadata": {
        "id": "Yi6Z7UWSELoo"
      },
      "execution_count": null,
      "outputs": []
    },
    {
      "cell_type": "markdown",
      "source": [
        "##Plots\n",
        "Before going into details of preprocessing, we would like to provide some charts related to our training data merged_df, which corresponds to churned sales data with the first 6-month period. Indeed, the charts will be quite useful to understand the distribution of the data features and relations with the churn variables."
      ],
      "metadata": {
        "id": "nihmd6CXltBv"
      }
    },
    {
      "cell_type": "code",
      "source": [
        "# Group the data by Channel and Churn and count the number of occurrences\n",
        "grouped = merged_df_train.groupby(['Channel', 'Churn']).size().unstack()\n",
        "\n",
        "# Create a bar chart using the grouped data\n",
        "ax = grouped.plot(kind='bar', stacked=True, figsize=(8, 6))\n",
        "\n",
        "# Set the title and axis labels\n",
        "ax.set_title('Churn by Channel')\n",
        "ax.set_xlabel('Channel')\n",
        "ax.set_ylabel('Count')\n",
        "\n",
        "# Add a legend\n",
        "ax.legend(['No Churn', 'Churn'], loc='upper right')\n",
        "\n",
        "# Show the plot\n",
        "plt.show()"
      ],
      "metadata": {
        "colab": {
          "base_uri": "https://localhost:8080/",
          "height": 603
        },
        "id": "chNiwGLCk-mK",
        "outputId": "48e6c6af-f452-429f-d701-15ac676761e7"
      },
      "execution_count": null,
      "outputs": [
        {
          "output_type": "display_data",
          "data": {
            "text/plain": [
              "<Figure size 800x600 with 1 Axes>"
            ],
            "image/png": "[encoded data removed]"
          },
          "metadata": {}
        }
      ]
    },
    {
      "cell_type": "code",
      "source": [
        "# Group the data by Channel and Churn and count the number of occurrences\n",
        "grouped = merged_df_train.groupby(['PaymentType', 'Churn']).size().unstack()\n",
        "\n",
        "# Create a bar chart using the grouped data\n",
        "ax = grouped.plot(kind='bar', stacked=True, figsize=(8, 6))\n",
        "\n",
        "# Set the title and axis labels\n",
        "ax.set_title('Churn by PaymentType')\n",
        "ax.set_xlabel('PaymentType')\n",
        "ax.set_ylabel('Count')\n",
        "\n",
        "# Add a legend\n",
        "ax.legend(['No Churn', 'Churn'], loc='upper right')\n",
        "\n",
        "# Show the plot\n",
        "plt.show()"
      ],
      "metadata": {
        "colab": {
          "base_uri": "https://localhost:8080/",
          "height": 678
        },
        "id": "e7BbbLV-2_Pt",
        "outputId": "98ade7e8-4773-4220-fa62-4d785b01476e"
      },
      "execution_count": null,
      "outputs": [
        {
          "output_type": "display_data",
          "data": {
            "text/plain": [
              "<Figure size 800x600 with 1 Axes>"
            ],
            "image/png": "[encoded data removed]"
          },
          "metadata": {}
        }
      ]
    },
    {
      "cell_type": "code",
      "source": [
        "# Group the data by Channel and Churn and count the number of occurrences\n",
        "grouped = merged_df_train.groupby(['Discount', 'Churn']).size().unstack()\n",
        "\n",
        "# Create a bar chart using the grouped data\n",
        "ax = grouped.plot(kind='bar', stacked=True, figsize=(8, 6))\n",
        "\n",
        "# Set the title and axis labels\n",
        "ax.set_title('Churn by Discount')\n",
        "ax.set_xlabel('Discount')\n",
        "ax.set_ylabel('Count')\n",
        "\n",
        "# Add a legend\n",
        "ax.legend(['No Churn', 'Churn'], loc='upper right')\n",
        "\n",
        "# Show the plot\n",
        "plt.show()"
      ],
      "metadata": {
        "colab": {
          "base_uri": "https://localhost:8080/",
          "height": 572
        },
        "id": "WU6pTuhM39oH",
        "outputId": "c50d5be7-7018-4782-a240-7c07496516f7"
      },
      "execution_count": null,
      "outputs": [
        {
          "output_type": "display_data",
          "data": {
            "text/plain": [
              "<Figure size 800x600 with 1 Axes>"
            ],
            "image/png": "[encoded data removed]"
          },
          "metadata": {}
        }
      ]
    },
    {
      "cell_type": "code",
      "source": [
        "# Group the data by Channel and Churn and count the number of occurrences\n",
        "grouped = merged_df_train.groupby(['Discount', 'Churn']).size().unstack()\n",
        "\n",
        "# Calculate the percentages for each Churn category\n",
        "grouped_perc = (grouped.T / grouped.sum(axis=1)).T * 100\n",
        "\n",
        "# Create a stacked bar chart using the grouped data\n",
        "ax = grouped_perc.plot(kind='bar', stacked=True, figsize=(8, 6))\n",
        "\n",
        "# Set the title and axis labels\n",
        "ax.set_title('Churn by Discount')\n",
        "ax.set_xlabel('Discount')\n",
        "ax.set_ylabel('Percentage')\n",
        "\n",
        "# Add a legend\n",
        "ax.legend(['No Churn', 'Churn'], loc='upper right')\n",
        "\n",
        "for i, category in enumerate(grouped_perc.index):\n",
        "    prev_total = 0\n",
        "    for j, value in enumerate(grouped_perc.columns):\n",
        "        ax.text(i, prev_total + (grouped_perc.iloc[i, j] / 2), f'{grouped_perc.iloc[i, j]:.1f}%',\n",
        "                 ha='center', va='center', color='white')\n",
        "        prev_total += grouped_perc.iloc[i, j]\n",
        "\n",
        "# Show the plot\n",
        "plt.show()"
      ],
      "metadata": {
        "colab": {
          "base_uri": "https://localhost:8080/",
          "height": 572
        },
        "id": "d3TC4zvs4CJR",
        "outputId": "edda9bab-1377-45de-989a-29aef4f7d215"
      },
      "execution_count": null,
      "outputs": [
        {
          "output_type": "display_data",
          "data": {
            "text/plain": [
              "<Figure size 800x600 with 1 Axes>"
            ],
            "image/png": "[encoded data removed]"
          },
          "metadata": {}
        }
      ]
    },
    {
      "cell_type": "code",
      "source": [
        "# Group the data by Channel and Churn and count the number of occurrences\n",
        "grouped = merged_df_train.groupby(['PaymentType', 'Churn']).size().unstack()\n",
        "\n",
        "# Calculate the percentages for each Churn category\n",
        "grouped_perc = (grouped.T / grouped.sum(axis=1)).T * 100\n",
        "\n",
        "# Create a stacked bar chart using the grouped data\n",
        "ax = grouped_perc.plot(kind='bar', stacked=True, figsize=(8, 6))\n",
        "\n",
        "# Set the title and axis labels\n",
        "ax.set_title('Churn by PaymentType')\n",
        "ax.set_xlabel('PaymentType')\n",
        "ax.set_ylabel('Percentage')\n",
        "\n",
        "# Add a legend\n",
        "ax.legend(['No Churn', 'Churn'], loc='upper right', bbox_to_anchor=(1.25, 1))\n",
        "\n",
        "for i, category in enumerate(grouped_perc.index):\n",
        "    prev_total = 0\n",
        "    for j, value in enumerate(grouped_perc.columns):\n",
        "        ax.text(i, prev_total + (grouped_perc.iloc[i, j] / 2), f'{grouped_perc.iloc[i, j]:.1f}%',\n",
        "                 ha='center', va='center', color='white')\n",
        "        prev_total += grouped_perc.iloc[i, j]\n",
        "\n",
        "# Show the plot\n",
        "plt.show()"
      ],
      "metadata": {
        "colab": {
          "base_uri": "https://localhost:8080/",
          "height": 678
        },
        "id": "Kx8o88zB3pnr",
        "outputId": "a3854f05-2a6b-4387-9a5d-cadac9bd9cba"
      },
      "execution_count": null,
      "outputs": [
        {
          "output_type": "display_data",
          "data": {
            "text/plain": [
              "<Figure size 800x600 with 1 Axes>"
            ],
            "image/png": "[encoded data removed]"
          },
          "metadata": {}
        }
      ]
    },
    {
      "cell_type": "code",
      "source": [
        "# Group the data by Channel and Churn and count the number of occurrences\n",
        "grouped = merged_df_train.groupby(['Channel', 'Churn']).size().unstack()\n",
        "\n",
        "# Calculate the percentages for each Churn category\n",
        "grouped_perc = (grouped.T / grouped.sum(axis=1)).T * 100\n",
        "\n",
        "# Create a stacked bar chart using the grouped data\n",
        "ax = grouped_perc.plot(kind='bar', stacked=True, figsize=(8, 6))\n",
        "\n",
        "# Set the title and axis labels\n",
        "ax.set_title('Churn by Channel')\n",
        "ax.set_xlabel('Channel')\n",
        "ax.set_ylabel('Percentage')\n",
        "\n",
        "# Add a legend\n",
        "ax.legend(['No Churn', 'Churn'], loc='upper right')\n",
        "\n",
        "for i, category in enumerate(grouped_perc.index):\n",
        "    prev_total = 0\n",
        "    for j, value in enumerate(grouped_perc.columns):\n",
        "        ax.text(i, prev_total + (grouped_perc.iloc[i, j] / 2), f'{grouped_perc.iloc[i, j]:.1f}%',\n",
        "                 ha='center', va='center', color='white')\n",
        "        prev_total += grouped_perc.iloc[i, j]\n",
        "\n",
        "# Show the plot\n",
        "plt.show()"
      ],
      "metadata": {
        "colab": {
          "base_uri": "https://localhost:8080/",
          "height": 603
        },
        "id": "ZMMVt7sXlSQq",
        "outputId": "b949d8cd-3945-4352-996e-296e5d155001"
      },
      "execution_count": null,
      "outputs": [
        {
          "output_type": "display_data",
          "data": {
            "text/plain": [
              "<Figure size 800x600 with 1 Axes>"
            ],
            "image/png": "[encoded data removed]"
          },
          "metadata": {}
        }
      ]
    },
    {
      "cell_type": "markdown",
      "source": [
        "<div class=\"markdown-google-sans\">\n",
        "\n",
        "# <strong>Model Training</strong>\n",
        "\n",
        "</div>\n",
        "\n",
        "In the code below we are creating a list of classifiers that will be tried out and evaluated for the given dataset. The code also defining a list to store the precision scores for each model.\n",
        "\n",
        "The four classifiers that are included in the classifiers list are:\n",
        "\n",
        "* KNeighborsClassifier()\n",
        "* DecisionTreeClassifier()\n",
        "* RandomForestClassifier()\n",
        "* GradientBoostingClassifier()\n",
        "The names of the classifiers are stored in the classifier_names list.\n",
        "\n",
        "For each classifier, a pipeline is created with the following steps:\n",
        "\n",
        "* preprocessor: applies the ColumnTransformer object defined earlier to preprocess the data\n",
        "* smote: oversamples the minority class to address the issue of class imbalance\n",
        "* selector: selects all features using SelectKBest method, which is equivalent to keeping all the features\n",
        "* classifier: the specific classifier from the classifiers list that is being evaluated\n",
        "\n",
        "The pipeline is then used to perform cross-validation with 10 folds using the cross_val_score() method from scikit-learn. The scoring parameter is set to \"precision\" to evaluate the performance of the classifiers based on their precision scores. The mean() method is called on the scores returned by cross_val_score() to calculate the average precision score across all folds.\n",
        "\n",
        "The precision score for each classifier is printed to the console along with the name of the classifier. The precision score is also appended to the model_scores list."
      ],
      "metadata": {
        "id": "-__7JzJIpZOa"
      }
    },
    {
      "cell_type": "code",
      "source": [
        "## Create list of classifiers we're going to try out\n",
        "classifiers = [\n",
        "  KNeighborsClassifier(),\n",
        "  DecisionTreeClassifier(random_state=42),\n",
        "  RandomForestClassifier(random_state=42),\n",
        "  GradientBoostingClassifier(random_state=42)\n",
        "]\n",
        "classifier_names = [\n",
        "  'KNeighborsClassifier()',\n",
        "  'DecisionTreeClassifier()',\n",
        "  'RandomForestClassifier()',\n",
        "  'GradientBoostingClassifier()'\n",
        "]\n",
        "model_scores = []\n",
        "## Looping through the classifiers\n",
        "for classifier, name in zip(classifiers, classifier_names):\n",
        "  pipe = Pipeline(steps=[\n",
        "  ('preprocessor', preprocessor),\n",
        "  ('smote', smote),\n",
        "  ('selector', SelectKBest(k=len(X_train.columns))),\n",
        "  ('classifier', classifier)])\n",
        "  score = cross_val_score(pipe, X_train, y_train, cv=10, scoring=\"precision\", error_score=\"raise\").mean()\n",
        "  print(f\"{name} --> Precision: {score}\")\n",
        "  model_scores.append(score)"
      ],
      "metadata": {
        "id": "QYvJnVZzEPH8",
        "colab": {
          "base_uri": "https://localhost:8080/"
        },
        "outputId": "fad84160-b1d7-4837-f35b-468987bf0159"
      },
      "execution_count": null,
      "outputs": [
        {
          "output_type": "stream",
          "name": "stdout",
          "text": [
            "KNeighborsClassifier() --> Precision: 0.3849180417355899\n",
            "DecisionTreeClassifier() --> Precision: 0.6000786389168062\n",
            "RandomForestClassifier() --> Precision: 0.7782367075748748\n",
            "GradientBoostingClassifier() --> Precision: 0.2993668273473252\n"
          ]
        }
      ]
    },
    {
      "cell_type": "markdown",
      "source": [
        "The code below creates a pandas DataFrame called model_performance, which stores the names and precision scores of each classifier that was evaluated. The DataFrame has two columns: 'Classifier' and 'Precision'.\n",
        "\n",
        "As we can see from the result, the Random Forest performs better than other algorithms. So, we are continue with this model."
      ],
      "metadata": {
        "id": "oQqimUWXrYEB"
      }
    },
    {
      "cell_type": "code",
      "source": [
        "## Let us look at all Classifers and their Precisions.\n",
        "model_performance = pd.DataFrame({\n",
        "  'Classifier':\n",
        "    classifier_names,\n",
        "  'Precision':\n",
        "    model_scores\n",
        "}).sort_values('Precision', ascending = False, ignore_index=True)\n",
        "display(model_performance)"
      ],
      "metadata": {
        "id": "XujYvhcWEV50",
        "colab": {
          "base_uri": "https://localhost:8080/",
          "height": 175
        },
        "outputId": "4500964b-be1f-4bae-875f-3eb84d321432"
      },
      "execution_count": null,
      "outputs": [
        {
          "output_type": "display_data",
          "data": {
            "text/plain": [
              "                     Classifier  Precision\n",
              "0      RandomForestClassifier()   0.778237\n",
              "1      DecisionTreeClassifier()   0.600079\n",
              "2        KNeighborsClassifier()   0.384918\n",
              "3  GradientBoostingClassifier()   0.299367"
            ],
            "text/html": [
              "\n",
              "  <div id=\"df-caf6abcd-b95a-4b2a-a7cf-eb7efc2ab321\">\n",
              "    <div class=\"colab-df-container\">\n",
              "      <div>\n",
              "<style scoped>\n",
              "    .dataframe tbody tr th:only-of-type {\n",
              "        vertical-align: middle;\n",
              "    }\n",
              "\n",
              "    .dataframe tbody tr th {\n",
              "        vertical-align: top;\n",
              "    }\n",
              "\n",
              "    .dataframe thead th {\n",
              "        text-align: right;\n",
              "    }\n",
              "</style>\n",
              "<table border=\"1\" class=\"dataframe\">\n",
              "  <thead>\n",
              "    <tr style=\"text-align: right;\">\n",
              "      <th></th>\n",
              "      <th>Classifier</th>\n",
              "      <th>Precision</th>\n",
              "    </tr>\n",
              "  </thead>\n",
              "  <tbody>\n",
              "    <tr>\n",
              "      <th>0</th>\n",
              "      <td>RandomForestClassifier()</td>\n",
              "      <td>0.778237</td>\n",
              "    </tr>\n",
              "    <tr>\n",
              "      <th>1</th>\n",
              "      <td>DecisionTreeClassifier()</td>\n",
              "      <td>0.600079</td>\n",
              "    </tr>\n",
              "    <tr>\n",
              "      <th>2</th>\n",
              "      <td>KNeighborsClassifier()</td>\n",
              "      <td>0.384918</td>\n",
              "    </tr>\n",
              "    <tr>\n",
              "      <th>3</th>\n",
              "      <td>GradientBoostingClassifier()</td>\n",
              "      <td>0.299367</td>\n",
              "    </tr>\n",
              "  </tbody>\n",
              "</table>\n",
              "</div>\n",
              "      <button class=\"colab-df-convert\" onclick=\"convertToInteractive('df-caf6abcd-b95a-4b2a-a7cf-eb7efc2ab321')\"\n",
              "              title=\"Convert this dataframe to an interactive table.\"\n",
              "              style=\"display:none;\">\n",
              "        \n",
              "  <svg xmlns=\"http://www.w3.org/2000/svg\" height=\"24px\"viewBox=\"0 0 24 24\"\n",
              "       width=\"24px\">\n",
              "    <path d=\"M0 0h24v24H0V0z\" fill=\"none\"/>\n",
              "    <path d=\"M18.56 5.44l.94 2.06.94-2.06 2.06-.94-2.06-.94-.94-2.06-.94 2.06-2.06.94zm-11 1L8.5 8.5l.94-2.06 2.06-.94-2.06-.94L8.5 2.5l-.94 2.06-2.06.94zm10 10l.94 2.06.94-2.06 2.06-.94-2.06-.94-.94-2.06-.94 2.06-2.06.94z\"/><path d=\"M17.41 7.96l-1.37-1.37c-.4-.4-.92-.59-1.43-.59-.52 0-1.04.2-1.43.59L10.3 9.45l-7.72 7.72c-.78.78-.78 2.05 0 2.83L4 21.41c.39.39.9.59 1.41.59.51 0 1.02-.2 1.41-.59l7.78-7.78 2.81-2.81c.8-.78.8-2.07 0-2.86zM5.41 20L4 18.59l7.72-7.72 1.47 1.35L5.41 20z\"/>\n",
              "  </svg>\n",
              "      </button>\n",
              "      \n",
              "  <style>\n",
              "    .colab-df-container {\n",
              "      display:flex;\n",
              "      flex-wrap:wrap;\n",
              "      gap: 12px;\n",
              "    }\n",
              "\n",
              "    .colab-df-convert {\n",
              "      background-color: #E8F0FE;\n",
              "      border: none;\n",
              "      border-radius: 50%;\n",
              "      cursor: pointer;\n",
              "      display: none;\n",
              "      fill: #1967D2;\n",
              "      height: 32px;\n",
              "      padding: 0 0 0 0;\n",
              "      width: 32px;\n",
              "    }\n",
              "\n",
              "    .colab-df-convert:hover {\n",
              "      background-color: #E2EBFA;\n",
              "      box-shadow: 0px 1px 2px rgba(60, 64, 67, 0.3), 0px 1px 3px 1px rgba(60, 64, 67, 0.15);\n",
              "      fill: #174EA6;\n",
              "    }\n",
              "\n",
              "    [theme=dark] .colab-df-convert {\n",
              "      background-color: #3B4455;\n",
              "      fill: #D2E3FC;\n",
              "    }\n",
              "\n",
              "    [theme=dark] .colab-df-convert:hover {\n",
              "      background-color: #434B5C;\n",
              "      box-shadow: 0px 1px 3px 1px rgba(0, 0, 0, 0.15);\n",
              "      filter: drop-shadow(0px 1px 2px rgba(0, 0, 0, 0.3));\n",
              "      fill: #FFFFFF;\n",
              "    }\n",
              "  </style>\n",
              "\n",
              "      <script>\n",
              "        const buttonEl =\n",
              "          document.querySelector('#df-caf6abcd-b95a-4b2a-a7cf-eb7efc2ab321 button.colab-df-convert');\n",
              "        buttonEl.style.display =\n",
              "          google.colab.kernel.accessAllowed ? 'block' : 'none';\n",
              "\n",
              "        async function convertToInteractive(key) {\n",
              "          const element = document.querySelector('#df-caf6abcd-b95a-4b2a-a7cf-eb7efc2ab321');\n",
              "          const dataTable =\n",
              "            await google.colab.kernel.invokeFunction('convertToInteractive',\n",
              "                                                     [key], {});\n",
              "          if (!dataTable) return;\n",
              "\n",
              "          const docLinkHtml = 'Like what you see? Visit the ' +\n",
              "            '<a target=\"_blank\" href=https://colab.research.google.com/notebooks/data_table.ipynb>data table notebook</a>'\n",
              "            + ' to learn more about interactive tables.';\n",
              "          element.innerHTML = '';\n",
              "          dataTable['output_type'] = 'display_data';\n",
              "          await google.colab.output.renderOutput(dataTable, element);\n",
              "          const docLink = document.createElement('div');\n",
              "          docLink.innerHTML = docLinkHtml;\n",
              "          element.appendChild(docLink);\n",
              "        }\n",
              "      </script>\n",
              "    </div>\n",
              "  </div>\n",
              "  "
            ]
          },
          "metadata": {}
        }
      ]
    },
    {
      "cell_type": "markdown",
      "source": [
        "Overall, the code that is below fits a Random Forest Classifier to the training data, generates predictions on the same data, and evaluates the precision, accuracy, and confusion matrix of the model. However, it's important to note that evaluating the model on the same data used for training can be misleading and result in overfitting. It's recommended to evaluate the model's performance on a separate test set that was not used during training."
      ],
      "metadata": {
        "id": "pANX-q3cs9Tw"
      }
    },
    {
      "cell_type": "code",
      "source": [
        "## Construct main pipeline, for the model.\n",
        "main_pipeline = Pipeline(steps=[\n",
        "('preprocessor', preprocessor),\n",
        "('smote', smote),\n",
        "('selector', SelectKBest(k=len(X_train.columns))),\n",
        "('classifier', RandomForestClassifier())])\n",
        "## Train the min model.\n",
        "model = main_pipeline.fit(X_train, y_train)\n",
        "y_pred = model.predict(X_test)\n",
        "## Let us look at accuracy of the model, according to its train data.\n",
        "print('Precision:', precision_score(y_pred, y_test), '\\nAccuracy:', accuracy_score(y_test, y_pred))\n",
        "conf_mat = confusion_matrix(y_test, y_pred)\n",
        "print('\\nConfusion Matrix:\\n', conf_mat)"
      ],
      "metadata": {
        "id": "gAIDsm4oHdkr",
        "colab": {
          "base_uri": "https://localhost:8080/"
        },
        "outputId": "fd86ef8f-8b0b-4a97-9453-1ea15b13c664"
      },
      "execution_count": null,
      "outputs": [
        {
          "output_type": "stream",
          "name": "stdout",
          "text": [
            "Precision: 0.6075129533678757 \n",
            "Accuracy: 0.9209615734838827\n",
            "\n",
            "Confusion Matrix:\n",
            " [[4588  131]\n",
            " [ 303  469]]\n"
          ]
        }
      ]
    },
    {
      "cell_type": "markdown",
      "source": [
        "<div class=\"markdown-google-sans\">\n",
        "\n",
        "# <strong>Model Test</strong>\n",
        "\n",
        "</div>\n",
        "\n",
        "Finally, to complete the Task 3, we need to apply our model into the second part of 9-month period data. For this purpose we will simpliy apply the same procces in the first 9-month period of data to construct test data."
      ],
      "metadata": {
        "id": "DMRT_gejvsEa"
      }
    },
    {
      "cell_type": "markdown",
      "source": [
        "The code below first splits the sales data into the first six months and the last three months, identifying active users in the last three months. Then, a DataFrame of customer information is filtered to only include users in the first six months, and a new column is added to indicate whether each customer has churned or not. Finally, the sales data and customer data are merged, and the resulting DataFrame is preprocessed by converting the ProductID and Churn columns to categorical data types and selecting specific columns of interest."
      ],
      "metadata": {
        "id": "ND6tvGz-1H7A"
      }
    },
    {
      "cell_type": "code",
      "source": [
        "# Test Data 9-month period for 2nd part of the record data.\n",
        "\n",
        "# Split data 6 and 3 month periods.\n",
        "index_6_month_second_period = (sales_df_period_2['DateTime'] < datetime(2018,4,1))\n",
        "index_3_month_second_period = (datetime(2018,4,1) <= sales_df_period_2['DateTime'])\n",
        "sales_df_first_6_month_second_period = sales_df_period_2[index_6_month_second_period]\n",
        "sales_df_last_3_month_second_period = sales_df_period_2[index_3_month_second_period]\n",
        "\n",
        "# Determine the users.\n",
        "users_second_period = sales_df_first_6_month_second_period[\"UserID\"].unique()\n",
        "active_users_second_period = sales_df_last_3_month_second_period[\"UserID\"].unique()\n",
        "\n",
        "# Assign churn variables for them.\n",
        "customers_df_churn_second_period = customers_df.loc[(customers_df[\"UserID\"].isin(users_second_period))].copy()\n",
        "customers_df_churn_second_period[\"Churn\"] = 1\n",
        "customers_df_churn_second_period.loc[(customers_df_churn_second_period[\"UserID\"].isin(active_users_second_period)), \"Churn\"] = 0\n",
        "\n",
        "# Merge the data\n",
        "merged_df_test= pd.merge(sales_df_first_6_month_second_period, customers_df_churn_second_period, on='UserID', how=\"right\")\n",
        "\n",
        "# Convert data types.\n",
        "merged_df_test[\"ProductID\"] = merged_df_test[\"ProductID\"].astype(\"category\")\n",
        "merged_df_test[\"Churn\"] = merged_df_test[\"Churn\"].astype(\"category\")\n",
        "merged_df_test = merged_df_test[[\"ProductID\", \"Channel\", \"PaymentType\", \"Price\", \"Discount\", \"Gender\", \"Location\", \"Age\", \"Churn\"]]\n",
        "\n",
        "# Check everything work.\n",
        "merged_df_test.info()"
      ],
      "metadata": {
        "id": "1EZnPYQCI5GT",
        "colab": {
          "base_uri": "https://localhost:8080/"
        },
        "outputId": "4a3e17f8-dd75-42a8-db93-e84c1d96fd20"
      },
      "execution_count": null,
      "outputs": [
        {
          "output_type": "stream",
          "name": "stdout",
          "text": [
            "<class 'pandas.core.frame.DataFrame'>\n",
            "Int64Index: 24210 entries, 0 to 24209\n",
            "Data columns (total 9 columns):\n",
            " #   Column       Non-Null Count  Dtype   \n",
            "---  ------       --------------  -----   \n",
            " 0   ProductID    24210 non-null  category\n",
            " 1   Channel      24210 non-null  object  \n",
            " 2   PaymentType  24210 non-null  object  \n",
            " 3   Price        24210 non-null  float64 \n",
            " 4   Discount     24210 non-null  object  \n",
            " 5   Gender       24210 non-null  object  \n",
            " 6   Location     24210 non-null  object  \n",
            " 7   Age          24210 non-null  int64   \n",
            " 8   Churn        24210 non-null  category\n",
            "dtypes: category(2), float64(1), int64(1), object(5)\n",
            "memory usage: 1.6+ MB\n"
          ]
        }
      ]
    },
    {
      "cell_type": "markdown",
      "source": [
        "In the code below we are  evaluating the performance of a machine learning model on a test dataset. The dataset has been split into two parts - features (X_test) and target (y_test). The model has already been trained on a separate training dataset.\n",
        "\n",
        "The code then generates predictions (y_pred) and predicted probabilities (y_score) using the trained model on the test dataset.\n",
        "\n",
        "The performance of the model on the test dataset is then evaluated using precision score, accuracy score, and a confusion matrix. The accuracy score is calculated using the predictions (y_pred) and actual target values (y_test), while the confusion matrix is generated using the actual target values (y_test) and the predictions (y_pred)."
      ],
      "metadata": {
        "id": "hjgG6SC7wYyJ"
      }
    },
    {
      "cell_type": "code",
      "source": [
        "## Separate features and target for the test data\n",
        "X_test = merged_df_test.drop(columns='Churn', axis=1)\n",
        "y_test = merged_df_test['Churn']\n",
        "## Creating the predictions\n",
        "y_pred = model.predict(X_test)\n",
        "## Looking at the performance\n",
        "print('Accuracy:', accuracy_score(y_test, y_pred))\n",
        "conf_mat = confusion_matrix(y_test, y_pred)\n",
        "print('\\nConfusion Matrix:\\n', conf_mat)"
      ],
      "metadata": {
        "id": "GlaYQKNTHOAZ",
        "colab": {
          "base_uri": "https://localhost:8080/"
        },
        "outputId": "eca07bcc-ab92-4d30-b741-e5d45aa6d74d"
      },
      "execution_count": null,
      "outputs": [
        {
          "output_type": "stream",
          "name": "stdout",
          "text": [
            "Accuracy: 0.8431639818256919\n",
            "\n",
            "Confusion Matrix:\n",
            " [[20147  1579]\n",
            " [ 2218   266]]\n"
          ]
        }
      ]
    }
  ],
  "metadata": {
    "colab": {
      "provenance": [],
      "toc_visible": true
    },
    "kernelspec": {
      "display_name": "Python 3",
      "name": "python3"
    }
  },
  "nbformat": 4,
  "nbformat_minor": 0
}